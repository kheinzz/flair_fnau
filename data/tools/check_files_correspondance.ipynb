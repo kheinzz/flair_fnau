{
 "cells": [
  {
   "cell_type": "code",
   "execution_count": 3,
   "metadata": {},
   "outputs": [
    {
     "name": "stdout",
     "output_type": "stream",
     "text": [
      "The following files are missing:\n",
      "Image: image\n",
      "Label: label\n"
     ]
    }
   ],
   "source": [
    "import os\n",
    "import csv\n",
    "\n",
    "# Function to check if a file exists\n",
    "def check_file_exists(file_path):\n",
    "    return os.path.exists(file_path)\n",
    "\n",
    "# Function to check files in the CSV\n",
    "def check_files_in_csv(csv_file_path):\n",
    "    missing_files = []\n",
    "\n",
    "    with open(csv_file_path, 'r') as csv_file:\n",
    "        reader = csv.reader(csv_file)\n",
    "        for row in reader:\n",
    "            if len(row) < 2:\n",
    "                print(f\"Invalid row format: {row}\")\n",
    "                continue\n",
    "\n",
    "            image_path, label_path = row\n",
    "\n",
    "            # Check if image file exists\n",
    "            if not check_file_exists(image_path):\n",
    "                missing_files.append((\"Image\", image_path))\n",
    "\n",
    "            # Check if label file exists\n",
    "            if not check_file_exists(label_path):\n",
    "                missing_files.append((\"Label\", label_path))\n",
    "\n",
    "    return missing_files\n",
    "\n",
    "# CSV file path\n",
    "csv_file_path = \"C:/_GLOBAL/TRAVAIL/OCS/cosia/FLAIR-1-main/FLAIR-1-main/data/parking/dataset2/train.csv\"  # Replace with your actual CSV file path\n",
    "\n",
    "# Run the check\n",
    "missing_files = check_files_in_csv(csv_file_path)\n",
    "\n",
    "# Log the results\n",
    "if missing_files:\n",
    "    print(\"The following files are missing:\")\n",
    "    for file_type, file_path in missing_files:\n",
    "        print(f\"{file_type}: {file_path}\")\n",
    "else:\n",
    "    print(\"All files exist!\")\n"
   ]
  }
 ],
 "metadata": {
  "kernelspec": {
   "display_name": "FLAIR-INC",
   "language": "python",
   "name": "python3"
  },
  "language_info": {
   "codemirror_mode": {
    "name": "ipython",
    "version": 3
   },
   "file_extension": ".py",
   "mimetype": "text/x-python",
   "name": "python",
   "nbconvert_exporter": "python",
   "pygments_lexer": "ipython3",
   "version": "3.12.4"
  }
 },
 "nbformat": 4,
 "nbformat_minor": 2
}
